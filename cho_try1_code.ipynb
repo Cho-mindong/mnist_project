{
 "cells": [
  {
   "cell_type": "code",
   "execution_count": 1,
   "metadata": {},
   "outputs": [],
   "source": [
    "import pandas as pd\n",
    "import numpy as np\n",
    "import matplotlib.pyplot as plt\n",
    "import warnings\n",
    "warnings.filterwarnings(\"ignore\")\n",
    "import tensorflow as tf"
   ]
  },
  {
   "cell_type": "code",
   "execution_count": 2,
   "metadata": {},
   "outputs": [],
   "source": [
    "train = pd.read_csv('data/train.csv')\n",
    "test = pd.read_csv('data/test.csv')"
   ]
  },
  {
   "cell_type": "code",
   "execution_count": 3,
   "metadata": {},
   "outputs": [],
   "source": [
    "x_train = train.drop(['id', 'digit', 'letter'], axis=1).values\n",
    "# x_train, x_train.shape\n",
    "\n",
    "# x_train을 keras input에 넣기 위해 4차원으로 변경. \n",
    "# 28은 784개의 1차원벡터로 된 특성을 2차원으로 바꿔주기 위함. 784=28*28\n",
    "x_train = x_train.reshape(-1, 28, 28, 1)\n",
    "# type(x_train), np.max(x_train)\n",
    "x_train = x_train/255\n",
    "\n",
    "y = train['digit']\n",
    "y_train = np.zeros((len(y), len(y.unique())))\n",
    "\n",
    "# 원 핫 벡터로 \n",
    "for i, digit in enumerate(y):\n",
    "    y_train[i, digit] = 1"
   ]
  },
  {
   "cell_type": "code",
   "execution_count": 11,
   "metadata": {},
   "outputs": [],
   "source": [
    "def create_cnn_model(x_train):\n",
    "    inputs = tf.keras.layers.Input(x_train.shape[1:])\n",
    "\n",
    "    bn = tf.keras.layers.BatchNormalization()(inputs)\n",
    "    conv = tf.keras.layers.Conv2D(128, kernel_size=5, strides=1, padding='same', activation='relu')(bn)\n",
    "    bn = tf.keras.layers.BatchNormalization()(conv)\n",
    "    conv = tf.keras.layers.Conv2D(128, kernel_size=3, strides=1, padding='same', activation='relu')(bn)\n",
    "    pool = tf.keras.layers.MaxPooling2D((2, 2))(conv)\n",
    "    dropout=tf.keras.layers.Dropout(rate=0.5)(pool)\n",
    "\n",
    "    bn = tf.keras.layers.BatchNormalization()(dropout)\n",
    "    conv = tf.keras.layers.Conv2D(256, kernel_size=3, strides=1, padding='same', activation='relu')(bn)\n",
    "    bn = tf.keras.layers.BatchNormalization()(conv)\n",
    "    conv = tf.keras.layers.Conv2D(256, kernel_size=3, strides=1, padding='same', activation='relu')(bn)\n",
    "    pool = tf.keras.layers.MaxPooling2D((2, 2))(conv)\n",
    "    dropout=tf.keras.layers.Dropout(rate=0.5)(pool)\n",
    "\n",
    "    flatten = tf.keras.layers.Flatten()(dropout)\n",
    "\n",
    "    bn = tf.keras.layers.BatchNormalization()(flatten)\n",
    "    dense = tf.keras.layers.Dense(1000, activation='relu')(bn)\n",
    "    dropout=tf.keras.layers.Dropout(rate=0.3)(dense)\n",
    "\n",
    "    bn = tf.keras.layers.BatchNormalization()(dropout)\n",
    "    outputs = tf.keras.layers.Dense(10, activation='softmax')(bn)\n",
    "\n",
    "    model = tf.keras.models.Model(inputs=inputs, outputs=outputs)\n",
    "\n",
    "    return model"
   ]
  },
  {
   "cell_type": "code",
   "execution_count": 12,
   "metadata": {},
   "outputs": [
    {
     "name": "stdout",
     "output_type": "stream",
     "text": [
      "Epoch 1/20\n",
      "64/64 [==============================] - 30s 463ms/step - loss: 2.5680 - accuracy: 0.3481\n",
      "Epoch 2/20\n",
      "64/64 [==============================] - 31s 483ms/step - loss: 1.6216 - accuracy: 0.5059\n",
      "Epoch 3/20\n",
      "64/64 [==============================] - 30s 466ms/step - loss: 1.2382 - accuracy: 0.5972\n",
      "Epoch 4/20\n",
      "64/64 [==============================] - 31s 478ms/step - loss: 0.9567 - accuracy: 0.6899\n",
      "Epoch 5/20\n",
      "64/64 [==============================] - 24s 370ms/step - loss: 0.8060 - accuracy: 0.7227\n",
      "Epoch 6/20\n",
      "64/64 [==============================] - 23s 366ms/step - loss: 0.7187 - accuracy: 0.7510\n",
      "Epoch 7/20\n",
      "64/64 [==============================] - 27s 422ms/step - loss: 0.5731 - accuracy: 0.8032\n",
      "Epoch 8/20\n",
      "64/64 [==============================] - 30s 473ms/step - loss: 0.5588 - accuracy: 0.8091\n",
      "Epoch 9/20\n",
      "64/64 [==============================] - 27s 425ms/step - loss: 0.4586 - accuracy: 0.8350\n",
      "Epoch 10/20\n",
      "64/64 [==============================] - 28s 444ms/step - loss: 0.3987 - accuracy: 0.8618\n",
      "Epoch 11/20\n",
      "64/64 [==============================] - 27s 416ms/step - loss: 0.3605 - accuracy: 0.8774\n",
      "Epoch 12/20\n",
      "64/64 [==============================] - 26s 410ms/step - loss: 0.3421 - accuracy: 0.8857\n",
      "Epoch 13/20\n",
      "64/64 [==============================] - 27s 416ms/step - loss: 0.2881 - accuracy: 0.9009\n",
      "Epoch 14/20\n",
      "64/64 [==============================] - 26s 404ms/step - loss: 0.2584 - accuracy: 0.9160\n",
      "Epoch 15/20\n",
      "64/64 [==============================] - 28s 430ms/step - loss: 0.2179 - accuracy: 0.9194\n",
      "Epoch 16/20\n",
      "64/64 [==============================] - 29s 452ms/step - loss: 0.2264 - accuracy: 0.9194\n",
      "Epoch 17/20\n",
      "64/64 [==============================] - 28s 436ms/step - loss: 0.2148 - accuracy: 0.9268\n",
      "Epoch 18/20\n",
      "64/64 [==============================] - 27s 429ms/step - loss: 0.1822 - accuracy: 0.9419\n",
      "Epoch 19/20\n",
      "64/64 [==============================] - 27s 417ms/step - loss: 0.1623 - accuracy: 0.9463\n",
      "Epoch 20/20\n",
      "64/64 [==============================] - 27s 422ms/step - loss: 0.1197 - accuracy: 0.9565\n"
     ]
    },
    {
     "data": {
      "text/plain": [
       "<tensorflow.python.keras.callbacks.History at 0x244a6218388>"
      ]
     },
     "execution_count": 12,
     "metadata": {},
     "output_type": "execute_result"
    }
   ],
   "source": [
    "model = create_cnn_model(x_train)\n",
    "model.compile(loss='categorical_crossentropy', optimizer='adam', metrics=['accuracy'])\n",
    "model.fit(x_train, y_train, epochs=20)"
   ]
  },
  {
   "cell_type": "code",
   "execution_count": 13,
   "metadata": {},
   "outputs": [],
   "source": [
    "x_test = test.drop(['id', 'letter'], axis=1).values\n",
    "x_test = x_test.reshape(-1, 28, 28, 1)\n",
    "x_test = x_test/255\n",
    "y=model.predict(x_test)"
   ]
  },
  {
   "cell_type": "code",
   "execution_count": 14,
   "metadata": {},
   "outputs": [],
   "source": [
    "# y.shape"
   ]
  },
  {
   "cell_type": "code",
   "execution_count": 15,
   "metadata": {},
   "outputs": [],
   "source": [
    "digit=np.argmax(y,axis=1)\n",
    "# number"
   ]
  },
  {
   "cell_type": "code",
   "execution_count": 16,
   "metadata": {},
   "outputs": [],
   "source": [
    "pd_submisson=pd.DataFrame({\"digit\":digit},index=test[\"id\"])\n",
    "# pd_submisson.index"
   ]
  },
  {
   "cell_type": "code",
   "execution_count": 17,
   "metadata": {},
   "outputs": [],
   "source": [
    "# pd_submisson"
   ]
  },
  {
   "cell_type": "code",
   "execution_count": 18,
   "metadata": {},
   "outputs": [],
   "source": [
    "pd_submisson.to_csv(\"cho_try1.csv\", encoding=\"utf-8\")"
   ]
  },
  {
   "cell_type": "code",
   "execution_count": null,
   "metadata": {},
   "outputs": [],
   "source": []
  },
  {
   "cell_type": "code",
   "execution_count": null,
   "metadata": {},
   "outputs": [],
   "source": []
  },
  {
   "cell_type": "code",
   "execution_count": null,
   "metadata": {},
   "outputs": [],
   "source": []
  },
  {
   "cell_type": "code",
   "execution_count": null,
   "metadata": {},
   "outputs": [],
   "source": []
  },
  {
   "cell_type": "code",
   "execution_count": null,
   "metadata": {},
   "outputs": [],
   "source": []
  },
  {
   "cell_type": "code",
   "execution_count": null,
   "metadata": {},
   "outputs": [],
   "source": []
  },
  {
   "cell_type": "code",
   "execution_count": null,
   "metadata": {},
   "outputs": [],
   "source": []
  },
  {
   "cell_type": "code",
   "execution_count": null,
   "metadata": {},
   "outputs": [],
   "source": []
  },
  {
   "cell_type": "code",
   "execution_count": null,
   "metadata": {},
   "outputs": [],
   "source": []
  },
  {
   "cell_type": "code",
   "execution_count": null,
   "metadata": {},
   "outputs": [],
   "source": []
  },
  {
   "cell_type": "code",
   "execution_count": null,
   "metadata": {},
   "outputs": [],
   "source": []
  }
 ],
 "metadata": {
  "kernelspec": {
   "display_name": "Python 3",
   "language": "python",
   "name": "python3"
  },
  "language_info": {
   "codemirror_mode": {
    "name": "ipython",
    "version": 3
   },
   "file_extension": ".py",
   "mimetype": "text/x-python",
   "name": "python",
   "nbconvert_exporter": "python",
   "pygments_lexer": "ipython3",
   "version": "3.7.6"
  }
 },
 "nbformat": 4,
 "nbformat_minor": 4
}
