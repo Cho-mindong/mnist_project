{
 "cells": [
  {
   "cell_type": "code",
   "execution_count": 1,
   "metadata": {},
   "outputs": [],
   "source": [
    "import pandas as pd\n",
    "import numpy as np\n",
    "import matplotlib.pyplot as plt\n",
    "import warnings\n",
    "warnings.filterwarnings(\"ignore\")\n",
    "import tensorflow as tf"
   ]
  },
  {
   "cell_type": "code",
   "execution_count": 3,
   "metadata": {},
   "outputs": [],
   "source": [
    "train = pd.read_csv('data/train.csv')\n",
    "test = pd.read_csv('data/test.csv')"
   ]
  },
  {
   "cell_type": "code",
   "execution_count": 11,
   "metadata": {},
   "outputs": [],
   "source": [
    "x_train = train.drop(['id', 'digit', 'letter'], axis=1).values\n",
    "# x_train, x_train.shape\n",
    "\n",
    "# x_train을 keras input에 넣기 위해 4차원으로 변경. \n",
    "# 28은 784개의 1차원벡터로 된 특성을 2차원으로 바꿔주기 위함. 784=28*28\n",
    "x_train = x_train.reshape(-1, 28, 28, 1)\n",
    "# type(x_train), np.max(x_train)\n",
    "x_train = x_train/255\n",
    "\n",
    "y = train['digit']\n",
    "y_train = np.zeros((len(y), len(y.unique())))\n",
    "\n",
    "# 원 핫 벡터로 \n",
    "for i, digit in enumerate(y):\n",
    "    y_train[i, digit] = 1"
   ]
  },
  {
   "cell_type": "code",
   "execution_count": 12,
   "metadata": {},
   "outputs": [],
   "source": [
    "def create_cnn_model(x_train):\n",
    "    inputs = tf.keras.layers.Input(x_train.shape[1:])\n",
    "\n",
    "    bn = tf.keras.layers.BatchNormalization()(inputs)\n",
    "    conv = tf.keras.layers.Conv2D(128, kernel_size=5, strides=1, padding='same', activation='relu')(bn)\n",
    "    bn = tf.keras.layers.BatchNormalization()(conv)\n",
    "    conv = tf.keras.layers.Conv2D(128, kernel_size=2, strides=1, padding='same', activation='relu')(bn)\n",
    "    pool = tf.keras.layers.MaxPooling2D((2, 2))(conv)\n",
    "\n",
    "    bn = tf.keras.layers.BatchNormalization()(pool)\n",
    "    conv = tf.keras.layers.Conv2D(256, kernel_size=2, strides=1, padding='same', activation='relu')(bn)\n",
    "    bn = tf.keras.layers.BatchNormalization()(conv)\n",
    "    conv = tf.keras.layers.Conv2D(256, kernel_size=2, strides=1, padding='same', activation='relu')(bn)\n",
    "    pool = tf.keras.layers.MaxPooling2D((2, 2))(conv)\n",
    "\n",
    "    flatten = tf.keras.layers.Flatten()(pool)\n",
    "\n",
    "    bn = tf.keras.layers.BatchNormalization()(flatten)\n",
    "    dense = tf.keras.layers.Dense(1000, activation='relu')(bn)\n",
    "\n",
    "    bn = tf.keras.layers.BatchNormalization()(dense)\n",
    "    outputs = tf.keras.layers.Dense(10, activation='softmax')(bn)\n",
    "\n",
    "    model = tf.keras.models.Model(inputs=inputs, outputs=outputs)\n",
    "\n",
    "    return model"
   ]
  },
  {
   "cell_type": "code",
   "execution_count": 13,
   "metadata": {},
   "outputs": [
    {
     "name": "stdout",
     "output_type": "stream",
     "text": [
      "Epoch 1/20\n",
      "64/64 [==============================] - 16s 251ms/step - loss: 2.6003 - accuracy: 0.4609\n",
      "Epoch 2/20\n",
      "64/64 [==============================] - 16s 255ms/step - loss: 0.8147 - accuracy: 0.7222\n",
      "Epoch 3/20\n",
      "64/64 [==============================] - 17s 265ms/step - loss: 0.4393 - accuracy: 0.8472\n",
      "Epoch 4/20\n",
      "64/64 [==============================] - 16s 252ms/step - loss: 0.2881 - accuracy: 0.9043\n",
      "Epoch 5/20\n",
      "64/64 [==============================] - 16s 250ms/step - loss: 0.2182 - accuracy: 0.9287\n",
      "Epoch 6/20\n",
      "64/64 [==============================] - 16s 254ms/step - loss: 0.1353 - accuracy: 0.9502\n",
      "Epoch 7/20\n",
      "64/64 [==============================] - 16s 248ms/step - loss: 0.1097 - accuracy: 0.9604\n",
      "Epoch 8/20\n",
      "64/64 [==============================] - 16s 250ms/step - loss: 0.1139 - accuracy: 0.9639\n",
      "Epoch 9/20\n",
      "64/64 [==============================] - 16s 246ms/step - loss: 0.0790 - accuracy: 0.9761\n",
      "Epoch 10/20\n",
      "64/64 [==============================] - 16s 251ms/step - loss: 0.0787 - accuracy: 0.9746\n",
      "Epoch 11/20\n",
      "64/64 [==============================] - 17s 260ms/step - loss: 0.0598 - accuracy: 0.9800\n",
      "Epoch 12/20\n",
      "64/64 [==============================] - 16s 247ms/step - loss: 0.0257 - accuracy: 0.9922\n",
      "Epoch 13/20\n",
      "64/64 [==============================] - 17s 259ms/step - loss: 0.0474 - accuracy: 0.9863\n",
      "Epoch 14/20\n",
      "64/64 [==============================] - 17s 262ms/step - loss: 0.0375 - accuracy: 0.9917\n",
      "Epoch 15/20\n",
      "64/64 [==============================] - 16s 257ms/step - loss: 0.0523 - accuracy: 0.9839\n",
      "Epoch 16/20\n",
      "64/64 [==============================] - 17s 273ms/step - loss: 0.0543 - accuracy: 0.9854\n",
      "Epoch 17/20\n",
      "64/64 [==============================] - 17s 266ms/step - loss: 0.0295 - accuracy: 0.9917\n",
      "Epoch 18/20\n",
      "64/64 [==============================] - 17s 259ms/step - loss: 0.0483 - accuracy: 0.9839\n",
      "Epoch 19/20\n",
      "64/64 [==============================] - 17s 258ms/step - loss: 0.0636 - accuracy: 0.9795\n",
      "Epoch 20/20\n",
      "64/64 [==============================] - 17s 261ms/step - loss: 0.0727 - accuracy: 0.9741\n"
     ]
    },
    {
     "data": {
      "text/plain": [
       "<tensorflow.python.keras.callbacks.History at 0x26d80718288>"
      ]
     },
     "execution_count": 13,
     "metadata": {},
     "output_type": "execute_result"
    }
   ],
   "source": [
    "model = create_cnn_model(x_train)\n",
    "model.compile(loss='categorical_crossentropy', optimizer='adam', metrics=['accuracy'])\n",
    "model.fit(x_train, y_train, epochs=20)"
   ]
  },
  {
   "cell_type": "code",
   "execution_count": 31,
   "metadata": {},
   "outputs": [],
   "source": [
    "x_test = test.drop(['id', 'letter'], axis=1).values\n",
    "x_test = x_test.reshape(-1, 28, 28, 1)\n",
    "x_test = x_test/255\n",
    "y=model.predict(x_test)"
   ]
  },
  {
   "cell_type": "code",
   "execution_count": 32,
   "metadata": {},
   "outputs": [],
   "source": [
    "# y.shape"
   ]
  },
  {
   "cell_type": "code",
   "execution_count": 33,
   "metadata": {},
   "outputs": [],
   "source": [
    "digit=np.argmax(y,axis=1)\n",
    "# number"
   ]
  },
  {
   "cell_type": "code",
   "execution_count": 41,
   "metadata": {},
   "outputs": [
    {
     "data": {
      "text/plain": [
       "Int64Index([ 2049,  2050,  2051,  2052,  2053,  2054,  2055,  2056,  2057,\n",
       "             2058,\n",
       "            ...\n",
       "            22519, 22520, 22521, 22522, 22523, 22524, 22525, 22526, 22527,\n",
       "            22528],\n",
       "           dtype='int64', name='id', length=20480)"
      ]
     },
     "execution_count": 41,
     "metadata": {},
     "output_type": "execute_result"
    }
   ],
   "source": [
    "pd_submisson=pd.DataFrame({\"digit\":digit},index=test[\"id\"])\n",
    "pd_submisson.index"
   ]
  },
  {
   "cell_type": "code",
   "execution_count": 42,
   "metadata": {},
   "outputs": [
    {
     "data": {
      "text/html": [
       "<div>\n",
       "<style scoped>\n",
       "    .dataframe tbody tr th:only-of-type {\n",
       "        vertical-align: middle;\n",
       "    }\n",
       "\n",
       "    .dataframe tbody tr th {\n",
       "        vertical-align: top;\n",
       "    }\n",
       "\n",
       "    .dataframe thead th {\n",
       "        text-align: right;\n",
       "    }\n",
       "</style>\n",
       "<table border=\"1\" class=\"dataframe\">\n",
       "  <thead>\n",
       "    <tr style=\"text-align: right;\">\n",
       "      <th></th>\n",
       "      <th>digit</th>\n",
       "    </tr>\n",
       "    <tr>\n",
       "      <th>id</th>\n",
       "      <th></th>\n",
       "    </tr>\n",
       "  </thead>\n",
       "  <tbody>\n",
       "    <tr>\n",
       "      <th>2049</th>\n",
       "      <td>6</td>\n",
       "    </tr>\n",
       "    <tr>\n",
       "      <th>2050</th>\n",
       "      <td>9</td>\n",
       "    </tr>\n",
       "    <tr>\n",
       "      <th>2051</th>\n",
       "      <td>6</td>\n",
       "    </tr>\n",
       "    <tr>\n",
       "      <th>2052</th>\n",
       "      <td>0</td>\n",
       "    </tr>\n",
       "    <tr>\n",
       "      <th>2053</th>\n",
       "      <td>3</td>\n",
       "    </tr>\n",
       "    <tr>\n",
       "      <th>...</th>\n",
       "      <td>...</td>\n",
       "    </tr>\n",
       "    <tr>\n",
       "      <th>22524</th>\n",
       "      <td>4</td>\n",
       "    </tr>\n",
       "    <tr>\n",
       "      <th>22525</th>\n",
       "      <td>1</td>\n",
       "    </tr>\n",
       "    <tr>\n",
       "      <th>22526</th>\n",
       "      <td>6</td>\n",
       "    </tr>\n",
       "    <tr>\n",
       "      <th>22527</th>\n",
       "      <td>1</td>\n",
       "    </tr>\n",
       "    <tr>\n",
       "      <th>22528</th>\n",
       "      <td>0</td>\n",
       "    </tr>\n",
       "  </tbody>\n",
       "</table>\n",
       "<p>20480 rows × 1 columns</p>\n",
       "</div>"
      ],
      "text/plain": [
       "       digit\n",
       "id          \n",
       "2049       6\n",
       "2050       9\n",
       "2051       6\n",
       "2052       0\n",
       "2053       3\n",
       "...      ...\n",
       "22524      4\n",
       "22525      1\n",
       "22526      6\n",
       "22527      1\n",
       "22528      0\n",
       "\n",
       "[20480 rows x 1 columns]"
      ]
     },
     "execution_count": 42,
     "metadata": {},
     "output_type": "execute_result"
    }
   ],
   "source": [
    "pd_submisson"
   ]
  },
  {
   "cell_type": "code",
   "execution_count": 46,
   "metadata": {},
   "outputs": [],
   "source": [
    "pd_submisson.to_csv(\"baseline.csv\", encoding=\"utf-8\")"
   ]
  },
  {
   "cell_type": "code",
   "execution_count": null,
   "metadata": {},
   "outputs": [],
   "source": []
  },
  {
   "cell_type": "code",
   "execution_count": null,
   "metadata": {},
   "outputs": [],
   "source": []
  },
  {
   "cell_type": "code",
   "execution_count": null,
   "metadata": {},
   "outputs": [],
   "source": []
  },
  {
   "cell_type": "code",
   "execution_count": null,
   "metadata": {},
   "outputs": [],
   "source": []
  },
  {
   "cell_type": "code",
   "execution_count": null,
   "metadata": {},
   "outputs": [],
   "source": []
  },
  {
   "cell_type": "code",
   "execution_count": null,
   "metadata": {},
   "outputs": [],
   "source": []
  },
  {
   "cell_type": "code",
   "execution_count": null,
   "metadata": {},
   "outputs": [],
   "source": []
  },
  {
   "cell_type": "code",
   "execution_count": null,
   "metadata": {},
   "outputs": [],
   "source": []
  },
  {
   "cell_type": "code",
   "execution_count": null,
   "metadata": {},
   "outputs": [],
   "source": []
  },
  {
   "cell_type": "code",
   "execution_count": null,
   "metadata": {},
   "outputs": [],
   "source": []
  },
  {
   "cell_type": "code",
   "execution_count": null,
   "metadata": {},
   "outputs": [],
   "source": []
  }
 ],
 "metadata": {
  "kernelspec": {
   "display_name": "Python 3",
   "language": "python",
   "name": "python3"
  },
  "language_info": {
   "codemirror_mode": {
    "name": "ipython",
    "version": 3
   },
   "file_extension": ".py",
   "mimetype": "text/x-python",
   "name": "python",
   "nbconvert_exporter": "python",
   "pygments_lexer": "ipython3",
   "version": "3.7.6"
  }
 },
 "nbformat": 4,
 "nbformat_minor": 4
}
